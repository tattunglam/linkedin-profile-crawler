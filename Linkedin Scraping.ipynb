{
 "cells": [
  {
   "cell_type": "code",
   "execution_count": 38,
   "metadata": {},
   "outputs": [],
   "source": [
    "from selenium import webdriver\n",
    "from selenium.webdriver.common.by import By\n",
    "from selenium.webdriver.support.ui import WebDriverWait\n",
    "from selenium.webdriver.support import expected_conditions as EC\n",
    "from selenium.webdriver.common.keys import Keys\n",
    "from bs4 import BeautifulSoup\n",
    "from time import sleep\n",
    "import re"
   ]
  },
  {
   "cell_type": "markdown",
   "metadata": {},
   "source": [
    "## Login to  Linkedin"
   ]
  },
  {
   "cell_type": "code",
   "execution_count": 39,
   "metadata": {},
   "outputs": [
    {
     "name": "stderr",
     "output_type": "stream",
     "text": [
      "C:\\Users\\Tung Lam\\AppData\\Local\\Temp\\ipykernel_3780\\842975801.py:3: DeprecationWarning: executable_path has been deprecated, please pass in a Service object\n",
      "  driver = webdriver.Chrome(\"C:\\chromedriver_win32\\chromedriver.exe\")\n"
     ]
    }
   ],
   "source": [
    "# Login to Linkedin\n",
    "# Open chrome and direct to linkedin login page\n",
    "driver = webdriver.Chrome(\"C:\\chromedriver_win32\\chromedriver.exe\")\n",
    "driver.implicitly_wait(10)\n",
    "url = 'https://www.linkedin.com/login'\n",
    "driver.get(url)\n",
    "\n",
    "# Extract credentital information\n",
    "credential = open('login_credential.txt')\n",
    "line = credential.readlines()\n",
    "username = line[0]\n",
    "password = line[1]\n",
    "\n",
    "# Fill form & login\n",
    "email_field = driver.find_element(By.ID, 'username')\n",
    "email_field.send_keys(username)\n",
    "sleep(1.5)\n",
    "password_field = driver.find_element(By.NAME, 'session_password')\n",
    "password_field.send_keys(password)\n",
    "sleep(1.5)\n",
    "login_button = driver.find_element(By.XPATH, '//*[@id=\"organic-div\"]/form/div[3]/button')\n",
    "login_button.click()\n",
    "sleep(1)"
   ]
  },
  {
   "cell_type": "code",
   "execution_count": 40,
   "metadata": {},
   "outputs": [],
   "source": [
    "# Search for the profiles\n",
    "driver.maximize_window()\n",
    "search_field = driver.find_element(By.XPATH, '//*[@id=\"global-nav-typeahead\"]/input')\n",
    "search_query = input('What profile do you want to scrape? ')\n",
    "search_field.send_keys(search_query)\n",
    "search_field.send_keys(Keys.RETURN)"
   ]
  },
  {
   "cell_type": "code",
   "execution_count": 41,
   "metadata": {},
   "outputs": [],
   "source": [
    "\n",
    "people_button = driver.find_element(By.CSS_SELECTOR, '[aria-label=\"People\"]')\n",
    "people_button.click()"
   ]
  },
  {
   "cell_type": "code",
   "execution_count": 42,
   "metadata": {},
   "outputs": [],
   "source": [
    "# Retrieve all profile url in current page\n",
    "def GetURL():\n",
    "    page_source = BeautifulSoup(driver.page_source)\n",
    "    profiles = page_source.find_all('a', href = re.compile(\"/in/\"))\n",
    "    all_profile_url = []\n",
    "    for profile in profiles:\n",
    "        profile_url = profile['href'][0:profile['href'].find('?')]\n",
    "        if profile_url not in all_profile_url:\n",
    "            all_profile_url.append(profile_url)\n",
    "    return all_profile_url"
   ]
  },
  {
   "cell_type": "code",
   "execution_count": 43,
   "metadata": {},
   "outputs": [
    {
     "name": "stdout",
     "output_type": "stream",
     "text": [
      "['https://www.linkedin.com/in/nguyen-van-long-73991710b', 'https://www.linkedin.com/in/ACoAAB47cUkBj129UY0d15DbNWlflWCz04ubOXM', 'https://www.linkedin.com/in/do-binh-10993757', 'https://www.linkedin.com/in/dung-nguyen-27637a175', 'https://www.linkedin.com/in/ACoAAAAZ_ssBRAJfOZd4ipTcrzNbgglLKiLJeCY', 'https://www.linkedin.com/in/manhitv', 'https://www.linkedin.com/in/minh-ha-phan-670716185', 'https://www.linkedin.com/in/duong-son-22aaab7a', 'https://www.linkedin.com/in/linh-c-le', 'https://www.linkedin.com/in/ACoAAAS-7iABHzeQUCqTF-Pk-EZDvSMzLYwiWr4', 'https://www.linkedin.com/in/chilevan', 'https://www.linkedin.com/in/cuongvn08', 'https://www.linkedin.com/in/duy-truong-71457930']\n"
     ]
    }
   ],
   "source": [
    "# Retrieve profile url in multiple pages\n",
    "def GetURLonPages():\n",
    "    number_of_page = int(input('Number of page you want to crawl: '))\n",
    "    profile_urls = []\n",
    "    for page in range(number_of_page):\n",
    "        urls_one_page = GetURL()\n",
    "        profile_urls = profile_urls + urls_one_page\n",
    "        sleep(1)\n",
    "        driver.execute_script('window.scrollTo(0, document.body.scrollHeight)')\n",
    "        driver.find_element(By.CSS_SELECTOR, '[aria-label=\"Next\"]').click()\n",
    "        sleep(1)\n",
    "    return profile_urls\n",
    "\n",
    "profile_urls = GetURLonPages()\n",
    "print(profile_urls)"
   ]
  },
  {
   "cell_type": "code",
   "execution_count": 46,
   "id": "9438a3f7",
   "metadata": {},
   "outputs": [
    {
     "name": "stdout",
     "output_type": "stream",
     "text": [
      "Nguyen Van Long Data Engineer at Giaohangtietkiem.vn Vietnam\n",
      "Lưu Thị Hiền Hiền Go big or go home! Vietnam\n",
      "Do Binh Senior Data Scientist at MSB Vietnam\n",
      "Dung Nguyen Senior Data Scientist at Zalo Vietnam\n",
      "Triều (Charles) Nguyễn Founder at PrimeData.ai - Science-first Customer Data & eXperience Platform Vietnam\n",
      "Manh Nguyen Senior Data Scientist at Vingroup Hanoi, Hanoi, Vietnam\n",
      "Minh Ha Phan Data Analyst at One Mount Group Vietnam\n",
      "Duong Son Data Scientist at Lazada Group Vietnam\n",
      "Linh Le Data Analyst at One Mount Group Ho Chi Minh City, Vietnam\n",
      "Thanh Luu Head of Data Product at GalaxyOne (Sovico Group) Vietnam\n",
      "Chi Le Van Data Engineer at PrimeData Science-first Marketing Platform Ho Chi Minh City, Vietnam\n",
      "Cuong Barry Senior Data Scientist Vietnam\n",
      "Duy Truong Data scientist manager at HEINEKEN Vietnam Vietnam\n"
     ]
    }
   ],
   "source": [
    "import csv\n",
    "with open('linkedin-profile.csv', 'w', newline = '', encoding=\"utf-8\") as fhand:\n",
    "    headers = ['Name', 'Job Title', 'Location', 'URL']\n",
    "    writer = csv.DictWriter(fhand, delimiter=',', lineterminator='\\n', fieldnames=headers)\n",
    "    writer.writeheader()\n",
    "\n",
    "    for profile_url in profile_urls:\n",
    "        driver.get(profile_url)\n",
    "        page_source = BeautifulSoup(driver.page_source, 'html.parser')\n",
    "        info_div = page_source.find('div', class_=\"mt2 relative\")\n",
    "        name = info_div.h1.string.strip()\n",
    "        title = info_div.find('div', class_=\"text-body-medium break-words\").string.strip()\n",
    "        location = info_div.find('span', class_=\"text-body-small inline t-black--light break-words\").string.strip()\n",
    "        print(name, title, location)\n",
    "        writer.writerow({headers[0]:name, headers[1]:location, headers[2]:title, headers[3]:profile_url})"
   ]
  },
  {
   "cell_type": "code",
   "execution_count": null,
   "id": "c4211844",
   "metadata": {},
   "outputs": [],
   "source": []
  }
 ],
 "metadata": {
  "interpreter": {
   "hash": "c4c7a8b0404ad455b1fa988a27af5e198ecdcfc53e74bc8876e438045dfe8e0e"
  },
  "kernelspec": {
   "display_name": "Python 3.9.10 64-bit (windows store)",
   "name": "python3"
  },
  "language_info": {
   "codemirror_mode": {
    "name": "ipython",
    "version": 3
   },
   "file_extension": ".py",
   "mimetype": "text/x-python",
   "name": "python",
   "nbconvert_exporter": "python",
   "pygments_lexer": "ipython3",
   "version": "3.9.10"
  }
 },
 "nbformat": 4,
 "nbformat_minor": 5
}
